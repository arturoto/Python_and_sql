{
 "cells": [
  {
   "cell_type": "code",
   "execution_count": 1,
   "metadata": {
    "collapsed": true
   },
   "outputs": [],
   "source": [
    "%load_ext sql"
   ]
  },
  {
   "cell_type": "code",
   "execution_count": 11,
   "metadata": {},
   "outputs": [
    {
     "data": {
      "text/plain": [
       "'Connected: @dataset_1.db'"
      ]
     },
     "execution_count": 11,
     "metadata": {},
     "output_type": "execute_result"
    }
   ],
   "source": [
    "# Selecting Database\n",
    "%sql sqlite:///dataset_1.db"
   ]
  },
  {
   "cell_type": "code",
   "execution_count": 12,
   "metadata": {},
   "outputs": [
    {
     "name": "stdout",
     "output_type": "stream",
     "text": [
      " * sqlite:///dataset_1.db\n",
      "Done.\n"
     ]
    },
    {
     "data": {
      "text/html": [
       "<table>\n",
       "    <tr>\n",
       "        <th>state_code</th>\n",
       "        <th>station_id</th>\n",
       "        <th>year</th>\n",
       "        <th>month</th>\n",
       "        <th>day</th>\n",
       "        <th>hour</th>\n",
       "        <th>precipitation</th>\n",
       "        <th>flag_1</th>\n",
       "        <th>flag_2</th>\n",
       "    </tr>\n",
       "    <tr>\n",
       "        <td>1</td>\n",
       "        <td>807</td>\n",
       "        <td>2013</td>\n",
       "        <td>9</td>\n",
       "        <td>1</td>\n",
       "        <td>1</td>\n",
       "        <td>None</td>\n",
       "        <td>[</td>\n",
       "        <td></td>\n",
       "    </tr>\n",
       "    <tr>\n",
       "        <td>1</td>\n",
       "        <td>807</td>\n",
       "        <td>2013</td>\n",
       "        <td>9</td>\n",
       "        <td>1</td>\n",
       "        <td>25</td>\n",
       "        <td>0</td>\n",
       "        <td>I</td>\n",
       "        <td></td>\n",
       "    </tr>\n",
       "    <tr>\n",
       "        <td>1</td>\n",
       "        <td>807</td>\n",
       "        <td>2013</td>\n",
       "        <td>9</td>\n",
       "        <td>30</td>\n",
       "        <td>24</td>\n",
       "        <td>None</td>\n",
       "        <td>]</td>\n",
       "        <td></td>\n",
       "    </tr>\n",
       "    <tr>\n",
       "        <td>1</td>\n",
       "        <td>807</td>\n",
       "        <td>2013</td>\n",
       "        <td>9</td>\n",
       "        <td>30</td>\n",
       "        <td>25</td>\n",
       "        <td>0</td>\n",
       "        <td>I</td>\n",
       "        <td></td>\n",
       "    </tr>\n",
       "    <tr>\n",
       "        <td>1</td>\n",
       "        <td>6303</td>\n",
       "        <td>2013</td>\n",
       "        <td>9</td>\n",
       "        <td>1</td>\n",
       "        <td>1</td>\n",
       "        <td>0</td>\n",
       "        <td>g</td>\n",
       "        <td></td>\n",
       "    </tr>\n",
       "    <tr>\n",
       "        <td>1</td>\n",
       "        <td>6303</td>\n",
       "        <td>2013</td>\n",
       "        <td>9</td>\n",
       "        <td>1</td>\n",
       "        <td>25</td>\n",
       "        <td>0</td>\n",
       "        <td></td>\n",
       "        <td></td>\n",
       "    </tr>\n",
       "    <tr>\n",
       "        <td>1</td>\n",
       "        <td>6303</td>\n",
       "        <td>2013</td>\n",
       "        <td>9</td>\n",
       "        <td>2</td>\n",
       "        <td>4</td>\n",
       "        <td>20</td>\n",
       "        <td></td>\n",
       "        <td></td>\n",
       "    </tr>\n",
       "    <tr>\n",
       "        <td>1</td>\n",
       "        <td>6303</td>\n",
       "        <td>2013</td>\n",
       "        <td>9</td>\n",
       "        <td>2</td>\n",
       "        <td>5</td>\n",
       "        <td>50</td>\n",
       "        <td></td>\n",
       "        <td></td>\n",
       "    </tr>\n",
       "    <tr>\n",
       "        <td>1</td>\n",
       "        <td>6303</td>\n",
       "        <td>2013</td>\n",
       "        <td>9</td>\n",
       "        <td>2</td>\n",
       "        <td>6</td>\n",
       "        <td>20</td>\n",
       "        <td></td>\n",
       "        <td></td>\n",
       "    </tr>\n",
       "    <tr>\n",
       "        <td>1</td>\n",
       "        <td>6303</td>\n",
       "        <td>2013</td>\n",
       "        <td>9</td>\n",
       "        <td>2</td>\n",
       "        <td>7</td>\n",
       "        <td>20</td>\n",
       "        <td></td>\n",
       "        <td></td>\n",
       "    </tr>\n",
       "</table>"
      ],
      "text/plain": [
       "[(1, 807, 2013, 9, 1, 1, None, '[', ''),\n",
       " (1, 807, 2013, 9, 1, 25, 0, 'I', ''),\n",
       " (1, 807, 2013, 9, 30, 24, None, ']', ''),\n",
       " (1, 807, 2013, 9, 30, 25, 0, 'I', ''),\n",
       " (1, 6303, 2013, 9, 1, 1, 0, 'g', ''),\n",
       " (1, 6303, 2013, 9, 1, 25, 0, '', ''),\n",
       " (1, 6303, 2013, 9, 2, 4, 20, '', ''),\n",
       " (1, 6303, 2013, 9, 2, 5, 50, '', ''),\n",
       " (1, 6303, 2013, 9, 2, 6, 20, '', ''),\n",
       " (1, 6303, 2013, 9, 2, 7, 20, '', '')]"
      ]
     },
     "execution_count": 12,
     "metadata": {},
     "output_type": "execute_result"
    }
   ],
   "source": [
    "%sql SELECT * FROM precipitation_full LIMIT 10;"
   ]
  },
  {
   "cell_type": "code",
   "execution_count": 8,
   "metadata": {},
   "outputs": [
    {
     "name": "stdout",
     "output_type": "stream",
     "text": [
      " * sqlite:///dataset_1.db\n",
      "Done.\n"
     ]
    },
    {
     "data": {
      "text/html": [
       "<table>\n",
       "    <tr>\n",
       "        <th>count(*)</th>\n",
       "    </tr>\n",
       "    <tr>\n",
       "        <td>74251</td>\n",
       "    </tr>\n",
       "</table>"
      ],
      "text/plain": [
       "[(74251,)]"
      ]
     },
     "execution_count": 8,
     "metadata": {},
     "output_type": "execute_result"
    }
   ],
   "source": [
    "%sql select count(*) from precipitation_full;"
   ]
  },
  {
   "cell_type": "code",
   "execution_count": 15,
   "metadata": {},
   "outputs": [
    {
     "name": "stdout",
     "output_type": "stream",
     "text": [
      " * sqlite:///dataset_1.db\n",
      "Done.\n"
     ]
    },
    {
     "data": {
      "text/html": [
       "<table>\n",
       "    <tr>\n",
       "        <th>sum(p.precipitation)</th>\n",
       "    </tr>\n",
       "    <tr>\n",
       "        <td>59840440</td>\n",
       "    </tr>\n",
       "</table>"
      ],
      "text/plain": [
       "[(59840440,)]"
      ]
     },
     "execution_count": 15,
     "metadata": {},
     "output_type": "execute_result"
    }
   ],
   "source": [
    "%%sql\n",
    "select sum(p.precipitation)\n",
    "from precipitation_full p, states s;"
   ]
  },
  {
   "cell_type": "code",
   "execution_count": 28,
   "metadata": {},
   "outputs": [
    {
     "name": "stdout",
     "output_type": "stream",
     "text": [
      " * sqlite:///dataset_1.db\n",
      "Done.\n"
     ]
    },
    {
     "data": {
      "text/html": [
       "<table>\n",
       "    <tr>\n",
       "        <th>SUM(p.precipitation)</th>\n",
       "    </tr>\n",
       "    <tr>\n",
       "        <td>31982</td>\n",
       "    </tr>\n",
       "</table>"
      ],
      "text/plain": [
       "[(31982,)]"
      ]
     },
     "execution_count": 28,
     "metadata": {},
     "output_type": "execute_result"
    }
   ],
   "source": [
    "%%sql\n",
    "--# Get the total rain fall for california\n",
    "SELECT SUM(p.precipitation) \n",
    "FROM precipitation_full p, states s \n",
    "WHERE p.state_code = s.code AND s.abbrev = 'CA' limit 10;"
   ]
  },
  {
   "cell_type": "code",
   "execution_count": 36,
   "metadata": {},
   "outputs": [
    {
     "name": "stdout",
     "output_type": "stream",
     "text": [
      " * sqlite:///dataset_1.db\n",
      "Done.\n"
     ]
    },
    {
     "data": {
      "text/html": [
       "<table>\n",
       "    <tr>\n",
       "        <th>state_code</th>\n",
       "        <th>station_id</th>\n",
       "        <th>year</th>\n",
       "        <th>month</th>\n",
       "        <th>day</th>\n",
       "        <th>hour</th>\n",
       "        <th>precipitation</th>\n",
       "        <th>flag_1</th>\n",
       "        <th>flag_2</th>\n",
       "    </tr>\n",
       "    <tr>\n",
       "        <td>1</td>\n",
       "        <td>807</td>\n",
       "        <td>2013</td>\n",
       "        <td>9</td>\n",
       "        <td>1</td>\n",
       "        <td>1</td>\n",
       "        <td>None</td>\n",
       "        <td>[</td>\n",
       "        <td></td>\n",
       "    </tr>\n",
       "    <tr>\n",
       "        <td>1</td>\n",
       "        <td>807</td>\n",
       "        <td>2013</td>\n",
       "        <td>9</td>\n",
       "        <td>1</td>\n",
       "        <td>25</td>\n",
       "        <td>0</td>\n",
       "        <td>I</td>\n",
       "        <td></td>\n",
       "    </tr>\n",
       "    <tr>\n",
       "        <td>1</td>\n",
       "        <td>807</td>\n",
       "        <td>2013</td>\n",
       "        <td>9</td>\n",
       "        <td>30</td>\n",
       "        <td>24</td>\n",
       "        <td>None</td>\n",
       "        <td>]</td>\n",
       "        <td></td>\n",
       "    </tr>\n",
       "    <tr>\n",
       "        <td>1</td>\n",
       "        <td>807</td>\n",
       "        <td>2013</td>\n",
       "        <td>9</td>\n",
       "        <td>30</td>\n",
       "        <td>25</td>\n",
       "        <td>0</td>\n",
       "        <td>I</td>\n",
       "        <td></td>\n",
       "    </tr>\n",
       "    <tr>\n",
       "        <td>1</td>\n",
       "        <td>6303</td>\n",
       "        <td>2013</td>\n",
       "        <td>9</td>\n",
       "        <td>1</td>\n",
       "        <td>1</td>\n",
       "        <td>0</td>\n",
       "        <td>g</td>\n",
       "        <td></td>\n",
       "    </tr>\n",
       "    <tr>\n",
       "        <td>1</td>\n",
       "        <td>6303</td>\n",
       "        <td>2013</td>\n",
       "        <td>9</td>\n",
       "        <td>1</td>\n",
       "        <td>25</td>\n",
       "        <td>0</td>\n",
       "        <td></td>\n",
       "        <td></td>\n",
       "    </tr>\n",
       "    <tr>\n",
       "        <td>1</td>\n",
       "        <td>6303</td>\n",
       "        <td>2013</td>\n",
       "        <td>9</td>\n",
       "        <td>2</td>\n",
       "        <td>4</td>\n",
       "        <td>20</td>\n",
       "        <td></td>\n",
       "        <td></td>\n",
       "    </tr>\n",
       "    <tr>\n",
       "        <td>1</td>\n",
       "        <td>6303</td>\n",
       "        <td>2013</td>\n",
       "        <td>9</td>\n",
       "        <td>2</td>\n",
       "        <td>5</td>\n",
       "        <td>50</td>\n",
       "        <td></td>\n",
       "        <td></td>\n",
       "    </tr>\n",
       "    <tr>\n",
       "        <td>1</td>\n",
       "        <td>6303</td>\n",
       "        <td>2013</td>\n",
       "        <td>9</td>\n",
       "        <td>2</td>\n",
       "        <td>6</td>\n",
       "        <td>20</td>\n",
       "        <td></td>\n",
       "        <td></td>\n",
       "    </tr>\n",
       "    <tr>\n",
       "        <td>1</td>\n",
       "        <td>6303</td>\n",
       "        <td>2013</td>\n",
       "        <td>9</td>\n",
       "        <td>2</td>\n",
       "        <td>7</td>\n",
       "        <td>20</td>\n",
       "        <td></td>\n",
       "        <td></td>\n",
       "    </tr>\n",
       "</table>"
      ],
      "text/plain": [
       "[(1, 807, 2013, 9, 1, 1, None, '[', ''),\n",
       " (1, 807, 2013, 9, 1, 25, 0, 'I', ''),\n",
       " (1, 807, 2013, 9, 30, 24, None, ']', ''),\n",
       " (1, 807, 2013, 9, 30, 25, 0, 'I', ''),\n",
       " (1, 6303, 2013, 9, 1, 1, 0, 'g', ''),\n",
       " (1, 6303, 2013, 9, 1, 25, 0, '', ''),\n",
       " (1, 6303, 2013, 9, 2, 4, 20, '', ''),\n",
       " (1, 6303, 2013, 9, 2, 5, 50, '', ''),\n",
       " (1, 6303, 2013, 9, 2, 6, 20, '', ''),\n",
       " (1, 6303, 2013, 9, 2, 7, 20, '', '')]"
      ]
     },
     "execution_count": 36,
     "metadata": {},
     "output_type": "execute_result"
    }
   ],
   "source": [
    "%%sql\n",
    "select * \n",
    "from precipitation_full\n",
    "limit 10;"
   ]
  },
  {
   "cell_type": "code",
   "execution_count": 56,
   "metadata": {},
   "outputs": [
    {
     "name": "stdout",
     "output_type": "stream",
     "text": [
      " * sqlite:///dataset_1.db\n",
      "Done.\n"
     ]
    }
   ],
   "source": [
    "result = %sql select * from states;"
   ]
  },
  {
   "cell_type": "code",
   "execution_count": 57,
   "metadata": {},
   "outputs": [
    {
     "data": {
      "text/plain": [
       "['code', 'name', 'abbrev']"
      ]
     },
     "execution_count": 57,
     "metadata": {},
     "output_type": "execute_result"
    }
   ],
   "source": [
    "result.keys"
   ]
  },
  {
   "cell_type": "markdown",
   "metadata": {
    "collapsed": true
   },
   "source": [
    "## Creating Tables "
   ]
  },
  {
   "cell_type": "code",
   "execution_count": 1,
   "metadata": {},
   "outputs": [
    {
     "data": {
      "text/plain": [
       "'Connected: @dataset_1.db'"
      ]
     },
     "execution_count": 1,
     "metadata": {},
     "output_type": "execute_result"
    }
   ],
   "source": [
    "%load_ext sql\n",
    "%sql sqlite:///dataset_1.db"
   ]
  },
  {
   "cell_type": "code",
   "execution_count": 2,
   "metadata": {},
   "outputs": [
    {
     "name": "stdout",
     "output_type": "stream",
     "text": [
      " * sqlite:///dataset_1.db\n",
      "Done.\n"
     ]
    },
    {
     "data": {
      "text/html": [
       "<table>\n",
       "    <tr>\n",
       "        <th>cid</th>\n",
       "        <th>name</th>\n",
       "        <th>type</th>\n",
       "        <th>notnull</th>\n",
       "        <th>dflt_value</th>\n",
       "        <th>pk</th>\n",
       "    </tr>\n",
       "    <tr>\n",
       "        <td>0</td>\n",
       "        <td>state_code</td>\n",
       "        <td>INT</td>\n",
       "        <td>0</td>\n",
       "        <td>None</td>\n",
       "        <td>0</td>\n",
       "    </tr>\n",
       "    <tr>\n",
       "        <td>1</td>\n",
       "        <td>station_id</td>\n",
       "        <td>INT</td>\n",
       "        <td>0</td>\n",
       "        <td>None</td>\n",
       "        <td>0</td>\n",
       "    </tr>\n",
       "    <tr>\n",
       "        <td>2</td>\n",
       "        <td>year</td>\n",
       "        <td>INT</td>\n",
       "        <td>0</td>\n",
       "        <td>None</td>\n",
       "        <td>0</td>\n",
       "    </tr>\n",
       "    <tr>\n",
       "        <td>3</td>\n",
       "        <td>month</td>\n",
       "        <td>INT</td>\n",
       "        <td>0</td>\n",
       "        <td>None</td>\n",
       "        <td>0</td>\n",
       "    </tr>\n",
       "    <tr>\n",
       "        <td>4</td>\n",
       "        <td>day</td>\n",
       "        <td>INT</td>\n",
       "        <td>0</td>\n",
       "        <td>None</td>\n",
       "        <td>0</td>\n",
       "    </tr>\n",
       "    <tr>\n",
       "        <td>5</td>\n",
       "        <td>hour</td>\n",
       "        <td>INT</td>\n",
       "        <td>0</td>\n",
       "        <td>None</td>\n",
       "        <td>0</td>\n",
       "    </tr>\n",
       "    <tr>\n",
       "        <td>6</td>\n",
       "        <td>precipitation</td>\n",
       "        <td>INT</td>\n",
       "        <td>0</td>\n",
       "        <td>None</td>\n",
       "        <td>0</td>\n",
       "    </tr>\n",
       "    <tr>\n",
       "        <td>7</td>\n",
       "        <td>flag_1</td>\n",
       "        <td>VARCHAR(1)</td>\n",
       "        <td>0</td>\n",
       "        <td>None</td>\n",
       "        <td>0</td>\n",
       "    </tr>\n",
       "    <tr>\n",
       "        <td>8</td>\n",
       "        <td>flag_2</td>\n",
       "        <td>VARCHAR(1)</td>\n",
       "        <td>0</td>\n",
       "        <td>None</td>\n",
       "        <td>0</td>\n",
       "    </tr>\n",
       "</table>"
      ],
      "text/plain": [
       "[(0, 'state_code', 'INT', 0, None, 0),\n",
       " (1, 'station_id', 'INT', 0, None, 0),\n",
       " (2, 'year', 'INT', 0, None, 0),\n",
       " (3, 'month', 'INT', 0, None, 0),\n",
       " (4, 'day', 'INT', 0, None, 0),\n",
       " (5, 'hour', 'INT', 0, None, 0),\n",
       " (6, 'precipitation', 'INT', 0, None, 0),\n",
       " (7, 'flag_1', 'VARCHAR(1)', 0, None, 0),\n",
       " (8, 'flag_2', 'VARCHAR(1)', 0, None, 0)]"
      ]
     },
     "execution_count": 2,
     "metadata": {},
     "output_type": "execute_result"
    }
   ],
   "source": [
    "%sql pragma table_info(precipitation_full)"
   ]
  },
  {
   "cell_type": "code",
   "execution_count": 4,
   "metadata": {},
   "outputs": [
    {
     "name": "stdout",
     "output_type": "stream",
     "text": [
      " * sqlite:///dataset_1.db\n",
      "Done.\n"
     ]
    },
    {
     "data": {
      "text/html": [
       "<table>\n",
       "    <tr>\n",
       "        <th>sql</th>\n",
       "    </tr>\n",
       "    <tr>\n",
       "        <td>CREATE TABLE precipitation_full(state_code INT, station_id INT, year INT, month INT, day INT, hour INT, precipitation INT, flag_1 VARCHAR(1), flag_2 VARCHAR(1))</td>\n",
       "    </tr>\n",
       "    <tr>\n",
       "        <td>CREATE TABLE states(code INT, name VARCHAR(30), abbrev VARCHAR(2))</td>\n",
       "    </tr>\n",
       "    <tr>\n",
       "        <td>CREATE TABLE precipitation(<br>  station_id INT,<br>  day INT,<br>  precipitation INT<br>)</td>\n",
       "    </tr>\n",
       "    <tr>\n",
       "        <td>CREATE TABLE A(i INT, j INT, val INT)</td>\n",
       "    </tr>\n",
       "    <tr>\n",
       "        <td>CREATE TABLE B(i INT, j INT, val INT)</td>\n",
       "    </tr>\n",
       "    <tr>\n",
       "        <td>CREATE TABLE streets(id INT, direction CHAR(1), A text, B text, d INT, PRIMARY KEY (id, direction))</td>\n",
       "    </tr>\n",
       "    <tr>\n",
       "        <td>None</td>\n",
       "    </tr>\n",
       "    <tr>\n",
       "        <td>CREATE TABLE franchise (name TEXT, db_type TEXT)</td>\n",
       "    </tr>\n",
       "    <tr>\n",
       "        <td>CREATE TABLE store (franchise TEXT, location TEXT)</td>\n",
       "    </tr>\n",
       "    <tr>\n",
       "        <td>CREATE TABLE bagel (name TEXT, price MONEY, made_by TEXT)</td>\n",
       "    </tr>\n",
       "    <tr>\n",
       "        <td>CREATE TABLE purchase (bagel_name TEXT, franchise TEXT, date INT, quantity INT, purchaser_age INT)</td>\n",
       "    </tr>\n",
       "</table>"
      ],
      "text/plain": [
       "[('CREATE TABLE precipitation_full(state_code INT, station_id INT, year INT, month INT, day INT, hour INT, precipitation INT, flag_1 VARCHAR(1), flag_2 VARCHAR(1))',),\n",
       " ('CREATE TABLE states(code INT, name VARCHAR(30), abbrev VARCHAR(2))',),\n",
       " ('CREATE TABLE precipitation(\\n  station_id INT,\\n  day INT,\\n  precipitation INT\\n)',),\n",
       " ('CREATE TABLE A(i INT, j INT, val INT)',),\n",
       " ('CREATE TABLE B(i INT, j INT, val INT)',),\n",
       " ('CREATE TABLE streets(id INT, direction CHAR(1), A text, B text, d INT, PRIMARY KEY (id, direction))',),\n",
       " (None,),\n",
       " ('CREATE TABLE franchise (name TEXT, db_type TEXT)',),\n",
       " ('CREATE TABLE store (franchise TEXT, location TEXT)',),\n",
       " ('CREATE TABLE bagel (name TEXT, price MONEY, made_by TEXT)',),\n",
       " ('CREATE TABLE purchase (bagel_name TEXT, franchise TEXT, date INT, quantity INT, purchaser_age INT)',)]"
      ]
     },
     "execution_count": 4,
     "metadata": {},
     "output_type": "execute_result"
    }
   ],
   "source": [
    "%sql select sql from sqlite_master; -- where name = 'precipitation_full'"
   ]
  },
  {
   "cell_type": "code",
   "execution_count": 5,
   "metadata": {},
   "outputs": [
    {
     "name": "stdout",
     "output_type": "stream",
     "text": [
      " * sqlite:///dataset_1.db\n",
      "Done.\n"
     ]
    },
    {
     "data": {
      "text/plain": [
       "[]"
      ]
     },
     "execution_count": 5,
     "metadata": {},
     "output_type": "execute_result"
    }
   ],
   "source": [
    "%%sql \n",
    "create table rain_corps_assignments(\n",
    "    student_id int primary key,\n",
    "    station_id int,\n",
    "    state_code int,\n",
    "    start_hour int,\n",
    "    eng_hout int,\n",
    "    holding_cup boolean,\n",
    "    cup_size float,\n",
    "    off_day int\n",
    ")"
   ]
  },
  {
   "cell_type": "code",
   "execution_count": 7,
   "metadata": {},
   "outputs": [
    {
     "name": "stdout",
     "output_type": "stream",
     "text": [
      " * sqlite:///dataset_1.db\n",
      "Done.\n"
     ]
    },
    {
     "data": {
      "text/html": [
       "<table>\n",
       "    <tr>\n",
       "        <th>sql</th>\n",
       "    </tr>\n",
       "    <tr>\n",
       "        <td>CREATE TABLE precipitation_full(state_code INT, station_id INT, year INT, month INT, day INT, hour INT, precipitation INT, flag_1 VARCHAR(1), flag_2 VARCHAR(1))</td>\n",
       "    </tr>\n",
       "    <tr>\n",
       "        <td>CREATE TABLE states(code INT, name VARCHAR(30), abbrev VARCHAR(2))</td>\n",
       "    </tr>\n",
       "    <tr>\n",
       "        <td>CREATE TABLE precipitation(<br>  station_id INT,<br>  day INT,<br>  precipitation INT<br>)</td>\n",
       "    </tr>\n",
       "    <tr>\n",
       "        <td>CREATE TABLE A(i INT, j INT, val INT)</td>\n",
       "    </tr>\n",
       "    <tr>\n",
       "        <td>CREATE TABLE B(i INT, j INT, val INT)</td>\n",
       "    </tr>\n",
       "    <tr>\n",
       "        <td>CREATE TABLE streets(id INT, direction CHAR(1), A text, B text, d INT, PRIMARY KEY (id, direction))</td>\n",
       "    </tr>\n",
       "    <tr>\n",
       "        <td>None</td>\n",
       "    </tr>\n",
       "    <tr>\n",
       "        <td>CREATE TABLE franchise (name TEXT, db_type TEXT)</td>\n",
       "    </tr>\n",
       "    <tr>\n",
       "        <td>CREATE TABLE store (franchise TEXT, location TEXT)</td>\n",
       "    </tr>\n",
       "    <tr>\n",
       "        <td>CREATE TABLE bagel (name TEXT, price MONEY, made_by TEXT)</td>\n",
       "    </tr>\n",
       "    <tr>\n",
       "        <td>CREATE TABLE purchase (bagel_name TEXT, franchise TEXT, date INT, quantity INT, purchaser_age INT)</td>\n",
       "    </tr>\n",
       "    <tr>\n",
       "        <td>CREATE TABLE rain_corps_assignments(<br>    student_id int primary key,<br>    station_id int,<br>    state_code int,<br>    start_hour int,<br>    eng_hout int,<br>    holding_cup boolean,<br>    cup_size float,<br>    off_day int<br>)</td>\n",
       "    </tr>\n",
       "    <tr>\n",
       "        <td>None</td>\n",
       "    </tr>\n",
       "</table>"
      ],
      "text/plain": [
       "[('CREATE TABLE precipitation_full(state_code INT, station_id INT, year INT, month INT, day INT, hour INT, precipitation INT, flag_1 VARCHAR(1), flag_2 VARCHAR(1))',),\n",
       " ('CREATE TABLE states(code INT, name VARCHAR(30), abbrev VARCHAR(2))',),\n",
       " ('CREATE TABLE precipitation(\\n  station_id INT,\\n  day INT,\\n  precipitation INT\\n)',),\n",
       " ('CREATE TABLE A(i INT, j INT, val INT)',),\n",
       " ('CREATE TABLE B(i INT, j INT, val INT)',),\n",
       " ('CREATE TABLE streets(id INT, direction CHAR(1), A text, B text, d INT, PRIMARY KEY (id, direction))',),\n",
       " (None,),\n",
       " ('CREATE TABLE franchise (name TEXT, db_type TEXT)',),\n",
       " ('CREATE TABLE store (franchise TEXT, location TEXT)',),\n",
       " ('CREATE TABLE bagel (name TEXT, price MONEY, made_by TEXT)',),\n",
       " ('CREATE TABLE purchase (bagel_name TEXT, franchise TEXT, date INT, quantity INT, purchaser_age INT)',),\n",
       " ('CREATE TABLE rain_corps_assignments(\\n    student_id int primary key,\\n    station_id int,\\n    state_code int,\\n    start_hour int,\\n    eng_hout int,\\n    holding_cup boolean,\\n    cup_size float,\\n    off_day int\\n)',),\n",
       " (None,)]"
      ]
     },
     "execution_count": 7,
     "metadata": {},
     "output_type": "execute_result"
    }
   ],
   "source": [
    "%sql select sql from sqlite_master;"
   ]
  },
  {
   "cell_type": "markdown",
   "metadata": {},
   "source": [
    "### Lecture 2 pg 23\n",
    "\n",
    "Selection - an operation of filtering a relation's tuples on some condition\n",
    "\n",
    "Projection - is the operation of producting an output table with tuples that have a subset of their prior attributes. \n",
    "\n",
    "Use single quotes for constants..\n",
    "\n",
    "#### LIKE keyword\n",
    "\n",
    "s LIKE p : pattern matching on strings\n",
    "\n",
    "p may contain two special symbols:\n",
    "\n",
    "    % - any sequence of characters\n",
    "    _ - any single character\n",
    "\n",
    "\n",
    "#### DISTINCT keyword\n",
    "\n",
    "Selecting Distinct elements from an attribute:\n",
    "\n",
    "    SELECT DISTINCT Category\n",
    "    FROM Product\n",
    "    \n",
    "#### ORDER BY\n",
    "\n",
    "Ties are broken by the second attribute on the ORDER BY list.. idk whatthe means\n",
    "Ordering is ascending unless you specify the DESC keyword:\n",
    "\n",
    "    SELECT PName, Price, Manufacturer\n",
    "    FROM Product\n",
    "    where Category='gizmo' and Price > 50\n",
    "    ORDER BY Price, PName\n",
    "    \n",
    "    \n",
    "   \n"
   ]
  },
  {
   "cell_type": "markdown",
   "metadata": {},
   "source": [
    "### Activity 2-2"
   ]
  },
  {
   "cell_type": "code",
   "execution_count": 13,
   "metadata": {},
   "outputs": [
    {
     "name": "stdout",
     "output_type": "stream",
     "text": [
      " * sqlite:///dataset_1.db\n",
      "Done.\n"
     ]
    },
    {
     "data": {
      "text/html": [
       "<table>\n",
       "    <tr>\n",
       "        <th>sql</th>\n",
       "    </tr>\n",
       "    <tr>\n",
       "        <td>CREATE TABLE precipitation_full(state_code INT, station_id INT, year INT, month INT, day INT, hour INT, precipitation INT, flag_1 VARCHAR(1), flag_2 VARCHAR(1))</td>\n",
       "    </tr>\n",
       "    <tr>\n",
       "        <td>CREATE TABLE states(code INT, name VARCHAR(30), abbrev VARCHAR(2))</td>\n",
       "    </tr>\n",
       "    <tr>\n",
       "        <td>CREATE TABLE precipitation(<br>  station_id INT,<br>  day INT,<br>  precipitation INT<br>)</td>\n",
       "    </tr>\n",
       "    <tr>\n",
       "        <td>CREATE TABLE A(i INT, j INT, val INT)</td>\n",
       "    </tr>\n",
       "    <tr>\n",
       "        <td>CREATE TABLE B(i INT, j INT, val INT)</td>\n",
       "    </tr>\n",
       "    <tr>\n",
       "        <td>CREATE TABLE streets(id INT, direction CHAR(1), A text, B text, d INT, PRIMARY KEY (id, direction))</td>\n",
       "    </tr>\n",
       "    <tr>\n",
       "        <td>None</td>\n",
       "    </tr>\n",
       "    <tr>\n",
       "        <td>CREATE TABLE franchise (name TEXT, db_type TEXT)</td>\n",
       "    </tr>\n",
       "    <tr>\n",
       "        <td>CREATE TABLE store (franchise TEXT, location TEXT)</td>\n",
       "    </tr>\n",
       "    <tr>\n",
       "        <td>CREATE TABLE bagel (name TEXT, price MONEY, made_by TEXT)</td>\n",
       "    </tr>\n",
       "    <tr>\n",
       "        <td>CREATE TABLE purchase (bagel_name TEXT, franchise TEXT, date INT, quantity INT, purchaser_age INT)</td>\n",
       "    </tr>\n",
       "    <tr>\n",
       "        <td>CREATE TABLE rain_corps_assignments(<br>    student_id int primary key,<br>    station_id int,<br>    state_code int,<br>    start_hour int,<br>    eng_hout int,<br>    holding_cup boolean,<br>    cup_size float,<br>    off_day int<br>)</td>\n",
       "    </tr>\n",
       "    <tr>\n",
       "        <td>None</td>\n",
       "    </tr>\n",
       "</table>"
      ],
      "text/plain": [
       "[('CREATE TABLE precipitation_full(state_code INT, station_id INT, year INT, month INT, day INT, hour INT, precipitation INT, flag_1 VARCHAR(1), flag_2 VARCHAR(1))',),\n",
       " ('CREATE TABLE states(code INT, name VARCHAR(30), abbrev VARCHAR(2))',),\n",
       " ('CREATE TABLE precipitation(\\n  station_id INT,\\n  day INT,\\n  precipitation INT\\n)',),\n",
       " ('CREATE TABLE A(i INT, j INT, val INT)',),\n",
       " ('CREATE TABLE B(i INT, j INT, val INT)',),\n",
       " ('CREATE TABLE streets(id INT, direction CHAR(1), A text, B text, d INT, PRIMARY KEY (id, direction))',),\n",
       " (None,),\n",
       " ('CREATE TABLE franchise (name TEXT, db_type TEXT)',),\n",
       " ('CREATE TABLE store (franchise TEXT, location TEXT)',),\n",
       " ('CREATE TABLE bagel (name TEXT, price MONEY, made_by TEXT)',),\n",
       " ('CREATE TABLE purchase (bagel_name TEXT, franchise TEXT, date INT, quantity INT, purchaser_age INT)',),\n",
       " ('CREATE TABLE rain_corps_assignments(\\n    student_id int primary key,\\n    station_id int,\\n    state_code int,\\n    start_hour int,\\n    eng_hout int,\\n    holding_cup boolean,\\n    cup_size float,\\n    off_day int\\n)',),\n",
       " (None,)]"
      ]
     },
     "execution_count": 13,
     "metadata": {},
     "output_type": "execute_result"
    }
   ],
   "source": [
    "%sql select sql from sqlite_master;"
   ]
  },
  {
   "cell_type": "code",
   "execution_count": 31,
   "metadata": {},
   "outputs": [
    {
     "name": "stdout",
     "output_type": "stream",
     "text": [
      " * sqlite:///dataset_1.db\n",
      "Done.\n",
      "Done.\n",
      "1 rows affected.\n",
      "1 rows affected.\n",
      "1 rows affected.\n",
      "1 rows affected.\n"
     ]
    },
    {
     "data": {
      "text/plain": [
       "[]"
      ]
     },
     "execution_count": 31,
     "metadata": {},
     "output_type": "execute_result"
    }
   ],
   "source": [
    "%%sql drop table if exists product;\n",
    "create table product(\n",
    "    pname varchar primary key, -- name of the product\n",
    "    price money, -- price of the product\n",
    "    category varchar, -- category\n",
    "    manufacturer varchar NOT NULL -- manufacturer\n",
    ");\n",
    "insert into product values('Gizmo', 19.99, 'Gadgets', 'GizmoWorks');\n",
    "insert into product values('PowerGizmo', 29.99, 'Gadgets', 'GizmoWorks');\n",
    "insert into product values('MultiTouch', 203.99, 'Household', 'Hitachi');\n",
    "insert into product values('SingleTouch', 149.99, 'Photography', 'Canon');"
   ]
  },
  {
   "cell_type": "code",
   "execution_count": 32,
   "metadata": {},
   "outputs": [
    {
     "name": "stdout",
     "output_type": "stream",
     "text": [
      " * sqlite:///dataset_1.db\n",
      "Done.\n"
     ]
    },
    {
     "data": {
      "text/html": [
       "<table>\n",
       "    <tr>\n",
       "        <th>pname</th>\n",
       "        <th>price</th>\n",
       "        <th>category</th>\n",
       "        <th>manufacturer</th>\n",
       "    </tr>\n",
       "    <tr>\n",
       "        <td>Gizmo</td>\n",
       "        <td>19.99</td>\n",
       "        <td>Gadgets</td>\n",
       "        <td>GizmoWorks</td>\n",
       "    </tr>\n",
       "    <tr>\n",
       "        <td>PowerGizmo</td>\n",
       "        <td>29.99</td>\n",
       "        <td>Gadgets</td>\n",
       "        <td>GizmoWorks</td>\n",
       "    </tr>\n",
       "    <tr>\n",
       "        <td>MultiTouch</td>\n",
       "        <td>203.99</td>\n",
       "        <td>Household</td>\n",
       "        <td>Hitachi</td>\n",
       "    </tr>\n",
       "    <tr>\n",
       "        <td>SingleTouch</td>\n",
       "        <td>149.99</td>\n",
       "        <td>Photography</td>\n",
       "        <td>Canon</td>\n",
       "    </tr>\n",
       "</table>"
      ],
      "text/plain": [
       "[('Gizmo', 19.99, 'Gadgets', 'GizmoWorks'),\n",
       " ('PowerGizmo', 29.99, 'Gadgets', 'GizmoWorks'),\n",
       " ('MultiTouch', 203.99, 'Household', 'Hitachi'),\n",
       " ('SingleTouch', 149.99, 'Photography', 'Canon')]"
      ]
     },
     "execution_count": 32,
     "metadata": {},
     "output_type": "execute_result"
    }
   ],
   "source": [
    "%sql select * from product;"
   ]
  },
  {
   "cell_type": "markdown",
   "metadata": {},
   "source": [
    "Try writing a query to get an output table of all the products with \"Touch\" in the name, showing just their name and price, and sorted alphabetically by manufacturer."
   ]
  },
  {
   "cell_type": "code",
   "execution_count": 33,
   "metadata": {},
   "outputs": [
    {
     "name": "stdout",
     "output_type": "stream",
     "text": [
      " * sqlite:///dataset_1.db\n",
      "Done.\n"
     ]
    },
    {
     "data": {
      "text/html": [
       "<table>\n",
       "    <tr>\n",
       "        <th>pname</th>\n",
       "        <th>price</th>\n",
       "    </tr>\n",
       "    <tr>\n",
       "        <td>SingleTouch</td>\n",
       "        <td>149.99</td>\n",
       "    </tr>\n",
       "    <tr>\n",
       "        <td>MultiTouch</td>\n",
       "        <td>203.99</td>\n",
       "    </tr>\n",
       "</table>"
      ],
      "text/plain": [
       "[('SingleTouch', 149.99), ('MultiTouch', 203.99)]"
      ]
     },
     "execution_count": 33,
     "metadata": {},
     "output_type": "execute_result"
    }
   ],
   "source": [
    "%%sql \n",
    "select pname, price from product\n",
    "where pname LIKE '%touch%'\n",
    "order by manufacturer;"
   ]
  },
  {
   "cell_type": "markdown",
   "metadata": {},
   "source": [
    "Write a query that returns the distinct names of the manufactuers that make products with 'gizmo' in the name"
   ]
  },
  {
   "cell_type": "code",
   "execution_count": 41,
   "metadata": {},
   "outputs": [
    {
     "name": "stdout",
     "output_type": "stream",
     "text": [
      " * sqlite:///dataset_1.db\n",
      "Done.\n"
     ]
    },
    {
     "data": {
      "text/html": [
       "<table>\n",
       "    <tr>\n",
       "        <th>manufacturer</th>\n",
       "    </tr>\n",
       "    <tr>\n",
       "        <td>GizmoWorks</td>\n",
       "    </tr>\n",
       "</table>"
      ],
      "text/plain": [
       "[('GizmoWorks',)]"
      ]
     },
     "execution_count": 41,
     "metadata": {},
     "output_type": "execute_result"
    }
   ],
   "source": [
    "%%sql\n",
    "select distinct manufacturer\n",
    "from product\n",
    "where pname like '%Gizmo%'"
   ]
  },
  {
   "cell_type": "code",
   "execution_count": 42,
   "metadata": {},
   "outputs": [
    {
     "name": "stdout",
     "output_type": "stream",
     "text": [
      " * sqlite:///dataset_1.db\n",
      "Done.\n"
     ]
    },
    {
     "data": {
      "text/html": [
       "<table>\n",
       "    <tr>\n",
       "        <th>category</th>\n",
       "    </tr>\n",
       "    <tr>\n",
       "        <td>Gadgets</td>\n",
       "    </tr>\n",
       "    <tr>\n",
       "        <td>Household</td>\n",
       "    </tr>\n",
       "    <tr>\n",
       "        <td>Photography</td>\n",
       "    </tr>\n",
       "</table>"
      ],
      "text/plain": [
       "[('Gadgets',), ('Household',), ('Photography',)]"
      ]
     },
     "execution_count": 42,
     "metadata": {},
     "output_type": "execute_result"
    }
   ],
   "source": [
    "%sql SELECT DISTINCT category FROM product ORDER BY category;"
   ]
  },
  {
   "cell_type": "code",
   "execution_count": 43,
   "metadata": {},
   "outputs": [
    {
     "name": "stdout",
     "output_type": "stream",
     "text": [
      " * sqlite:///dataset_1.db\n",
      "Done.\n"
     ]
    },
    {
     "data": {
      "text/html": [
       "<table>\n",
       "    <tr>\n",
       "        <th>category</th>\n",
       "    </tr>\n",
       "    <tr>\n",
       "        <td>Gadgets</td>\n",
       "    </tr>\n",
       "    <tr>\n",
       "        <td>Household</td>\n",
       "    </tr>\n",
       "    <tr>\n",
       "        <td>Gadgets</td>\n",
       "    </tr>\n",
       "    <tr>\n",
       "        <td>Photography</td>\n",
       "    </tr>\n",
       "</table>"
      ],
      "text/plain": [
       "[('Gadgets',), ('Household',), ('Gadgets',), ('Photography',)]"
      ]
     },
     "execution_count": 43,
     "metadata": {},
     "output_type": "execute_result"
    }
   ],
   "source": [
    "%sql SELECT category FROM product ORDER BY pname;"
   ]
  },
  {
   "cell_type": "code",
   "execution_count": 44,
   "metadata": {},
   "outputs": [
    {
     "name": "stdout",
     "output_type": "stream",
     "text": [
      " * sqlite:///dataset_1.db\n",
      "Done.\n"
     ]
    },
    {
     "data": {
      "text/html": [
       "<table>\n",
       "    <tr>\n",
       "        <th>category</th>\n",
       "    </tr>\n",
       "    <tr>\n",
       "        <td>Gadgets</td>\n",
       "    </tr>\n",
       "    <tr>\n",
       "        <td>Household</td>\n",
       "    </tr>\n",
       "    <tr>\n",
       "        <td>Photography</td>\n",
       "    </tr>\n",
       "</table>"
      ],
      "text/plain": [
       "[('Gadgets',), ('Household',), ('Photography',)]"
      ]
     },
     "execution_count": 44,
     "metadata": {},
     "output_type": "execute_result"
    }
   ],
   "source": [
    "%sql SELECT DISTINCT category FROM product ORDER BY pname;"
   ]
  },
  {
   "cell_type": "markdown",
   "metadata": {},
   "source": [
    "#### Lecture 2 pg 36\n",
    "Initializing an empty database"
   ]
  },
  {
   "cell_type": "code",
   "execution_count": 45,
   "metadata": {},
   "outputs": [
    {
     "data": {
      "text/plain": [
       "'Connected: @dataset_1.db'"
      ]
     },
     "execution_count": 45,
     "metadata": {},
     "output_type": "execute_result"
    }
   ],
   "source": [
    "%sql sqlite://"
   ]
  },
  {
   "cell_type": "code",
   "execution_count": 47,
   "metadata": {},
   "outputs": [
    {
     "name": "stdout",
     "output_type": "stream",
     "text": [
      " * sqlite:///dataset_1.db\n",
      "Done.\n",
      "Done.\n",
      "Done.\n",
      " * sqlite:///dataset_1.db\n",
      "Done.\n",
      "Done.\n",
      "Done.\n",
      " * sqlite:///dataset_1.db\n",
      "1 rows affected.\n",
      " * sqlite:///dataset_1.db\n",
      "1 rows affected.\n",
      " * sqlite:///dataset_1.db\n",
      "1 rows affected.\n",
      " * sqlite:///dataset_1.db\n",
      "1 rows affected.\n",
      " * sqlite:///dataset_1.db\n",
      "1 rows affected.\n",
      " * sqlite:///dataset_1.db\n",
      "1 rows affected.\n",
      " * sqlite:///dataset_1.db\n",
      "1 rows affected.\n",
      " * sqlite:///dataset_1.db\n",
      "1 rows affected.\n",
      " * sqlite:///dataset_1.db\n",
      "1 rows affected.\n",
      " * sqlite:///dataset_1.db\n",
      "1 rows affected.\n",
      " * sqlite:///dataset_1.db\n",
      "1 rows affected.\n",
      " * sqlite:///dataset_1.db\n",
      "1 rows affected.\n",
      " * sqlite:///dataset_1.db\n",
      "1 rows affected.\n",
      " * sqlite:///dataset_1.db\n",
      "1 rows affected.\n"
     ]
    }
   ],
   "source": [
    "%sql DROP TABLE IF EXISTS R; DROP TABLE IF EXISTS S; DROP TABLE IF EXISTS T;\n",
    "%sql CREATE TABLE R (A int); CREATE TABLE S (A int); CREATE TABLE T (A int);\n",
    "for i in range(1,6):\n",
    "    %sql INSERT INTO R VALUES (:i)\n",
    "for i in range(1,10,2):\n",
    "    %sql INSERT INTO S VALUES (:i)\n",
    "for i in range(1,11,3):\n",
    "    %sql INSERT INTO T VALUES (:i)"
   ]
  },
  {
   "cell_type": "code",
   "execution_count": 48,
   "metadata": {},
   "outputs": [
    {
     "name": "stdout",
     "output_type": "stream",
     "text": [
      " * sqlite:///dataset_1.db\n",
      "Done.\n",
      "Done.\n",
      "Done.\n",
      "Done.\n",
      "1 rows affected.\n",
      "1 rows affected.\n",
      "1 rows affected.\n",
      "Done.\n",
      "1 rows affected.\n",
      "1 rows affected.\n",
      "1 rows affected.\n",
      "1 rows affected.\n",
      "1 rows affected.\n",
      "1 rows affected.\n"
     ]
    },
    {
     "data": {
      "text/plain": [
       "[]"
      ]
     },
     "execution_count": 48,
     "metadata": {},
     "output_type": "execute_result"
    }
   ],
   "source": [
    "%%sql\n",
    "drop table if exists product; -- This needs to be dropped if exists, see why further down!\n",
    "drop table if exists company;\n",
    "pragma foreign_keys = ON; -- WARNING by default off in sqlite\n",
    "create table company (\n",
    "    cname varchar primary key, -- company name uniquely identifies the company.\n",
    "    stockprice money, -- stock price is in money \n",
    "    country varchar); -- country is just a string\n",
    "insert into company values ('ToyWorks', 25.0, 'USA');\n",
    "insert into company values ('ToyFriends', 65.0, 'China');\n",
    "insert into company values ('ToyCo', 15.0, 'China');\n",
    "\n",
    "create table product(\n",
    "       pname varchar, -- name of the product\n",
    "       price money, -- price of the product\n",
    "       category varchar, -- category\n",
    "       manufacturer varchar, -- manufacturer\n",
    "       primary key (pname, manufacturer),\n",
    "       foreign key (manufacturer) references company(cname));\n",
    "insert into product values('Pikachu', 19.99, 'Toy', 'ToyWorks');\n",
    "insert into product values('Pikachu', 19.99, 'Toy', 'ToyFriends');\n",
    "insert into product values('Pokeball', 29.99, 'Electronic', 'ToyCo');\n",
    "insert into product values('Bulbasaur', 149.99, 'Toy', 'ToyFriends');\n",
    "insert into product values('Charizard', 203.99, 'Toy', 'ToyCo');\n",
    "insert into product values('PokeCamera', 19.99, 'Electronic', 'ToyWorks');"
   ]
  },
  {
   "cell_type": "markdown",
   "metadata": {
    "collapsed": true
   },
   "source": [
    "#### pg 36\n",
    "If a key in one table is used multiple times in another table, it can be refered to as a foreign key. To declare a foreign key:\n",
    "    \n",
    "    create table enrolled(\n",
    "        student_id char(20),\n",
    "        cid char(20),\n",
    "        grade char(20),\n",
    "        primary key (student_id, cid),\n",
    "        FOREIGN KEY (student_id) REFRENCES Students(sid)\n",
    "    );\n",
    "    \n",
    "Foreign keys can act as constraints. If a tuple is inserted into Enrolled without a corresponding student, this insert method will fail.\n",
    "\n",
    "If a student is deleted, the DBA can:\n",
    "1. disallow delete, \n",
    "2. remove all of the courses for that student, \n",
    "3. or sql allows a thid via NULL.\n",
    "\n",
    "### JOINS\n",
    "\n",
    "ex. Find all products under $200 manufactured in Japan; return their names and prices:\n",
    "\n",
    "    select  PName, Price\n",
    "    from    Product, Company\n",
    "    where   Manufacturer = CName\n",
    "            AND Country='Japan'\n",
    "            AND Price <= 200\n",
    "    \n",
    "    OR\n",
    "    \n",
    "    select PName, Price\n",
    "    from Product\n",
    "    JOIN Company ON Manufacturer = Cname\n",
    "                   AND Country = 'Japan'\n",
    "    where Price <= 200\n",
    "        \n",
    "where   Manufacturer = CName is the join between tables and returns all unique combinations of their tuples which meet some specified join condition."
   ]
  },
  {
   "cell_type": "markdown",
   "metadata": {
    "collapsed": true
   },
   "source": [
    "### Tuple variable ambiguity in Multi-Table\n",
    "In schema :\n",
    "    \n",
    "    Person(NAME, address, worksfor)\n",
    "    Company(NAME, address)\n",
    "    \n",
    "    IN\n",
    "    \n",
    "    selct distinct name, address\n",
    "    from Person, Company\n",
    "    Where worksfor = name\n",
    "    \n",
    "To resolve ambiguity:\n",
    "\n",
    "    select distinct Person.name, Person.address\n",
    "    from Person, Company\n",
    "    where Person.worksfor = Company.name\n",
    "    \n",
    "    OR\n",
    "    \n",
    "    select distinct p.name, p.address\n",
    "    from Person p, Company c\n",
    "    where p.worksfor = c.name\n",
    "    \n"
   ]
  },
  {
   "cell_type": "markdown",
   "metadata": {
    "collapsed": true
   },
   "source": [
    "Scemantics of join:\n",
    "\n",
    "    select R.A\n",
    "    from R, S\n",
    "    where R.a = S.b\n",
    "1. Take the cross product \n",
    "    X = RxS\n",
    "    - the cross products is the set of all unique tuples in A and B\n",
    "2. Apply the selections/ conditions\n",
    "    y = {(r,s) E X | r.A == r.B}\n",
    "3. apply projection to get final output.\n",
    "    Z = (y.A) for y E Y\n",
    "    \n",
    "EX. final all countries that manufacture some product in the 'Gadgets' category:\n",
    "    \n",
    "    select Country \n",
    "    from Product, Company\n",
    "    where Manu\n",
    "    "
   ]
  },
  {
   "cell_type": "markdown",
   "metadata": {
    "collapsed": true
   },
   "source": [
    "#### EX 2.3"
   ]
  },
  {
   "cell_type": "markdown",
   "metadata": {
    "collapsed": true
   },
   "source": [
    "Exercise #1:\n",
    "-----------\n",
    "For three tables $R,S,T$ that only have one attribute $A$:\n",
    "* R = {1,2,3,4,5}\n",
    "* S = {1,3,5,7,9}\n",
    "* T = {1,4,7,10}\n",
    " \n",
    "$R \\cap (S \\cup T)$:\n",
    "\n",
    "    SELECT DISTINCT R.A\n",
    "    FROM R, S, T\n",
    "    WHERE R.A = S.A OR R.A = T.A;"
   ]
  },
  {
   "cell_type": "code",
   "execution_count": 51,
   "metadata": {},
   "outputs": [
    {
     "name": "stdout",
     "output_type": "stream",
     "text": [
      " * sqlite:///dataset_1.db\n",
      "Done.\n"
     ]
    },
    {
     "data": {
      "text/html": [
       "<table>\n",
       "    <tr>\n",
       "        <th>A</th>\n",
       "    </tr>\n",
       "    <tr>\n",
       "        <td>1</td>\n",
       "    </tr>\n",
       "    <tr>\n",
       "        <td>3</td>\n",
       "    </tr>\n",
       "    <tr>\n",
       "        <td>4</td>\n",
       "    </tr>\n",
       "    <tr>\n",
       "        <td>5</td>\n",
       "    </tr>\n",
       "</table>"
      ],
      "text/plain": [
       "[(1,), (3,), (4,), (5,)]"
      ]
     },
     "execution_count": 51,
     "metadata": {},
     "output_type": "execute_result"
    }
   ],
   "source": [
    "%%sql\n",
    "SELECT DISTINCT R.A\n",
    "FROM R, S, T\n",
    "WHERE R.A = S.A OR R.A = T.A;"
   ]
  },
  {
   "cell_type": "code",
   "execution_count": 53,
   "metadata": {},
   "outputs": [
    {
     "name": "stdout",
     "output_type": "stream",
     "text": [
      " * sqlite:///dataset_1.db\n",
      "5 rows affected.\n"
     ]
    },
    {
     "data": {
      "text/plain": [
       "[]"
      ]
     },
     "execution_count": 53,
     "metadata": {},
     "output_type": "execute_result"
    }
   ],
   "source": [
    "%sql delete from s;"
   ]
  },
  {
   "cell_type": "code",
   "execution_count": 54,
   "metadata": {},
   "outputs": [
    {
     "name": "stdout",
     "output_type": "stream",
     "text": [
      " * sqlite:///dataset_1.db\n",
      "Done.\n"
     ]
    },
    {
     "data": {
      "text/html": [
       "<table>\n",
       "    <tr>\n",
       "        <th>A</th>\n",
       "    </tr>\n",
       "</table>"
      ],
      "text/plain": [
       "[]"
      ]
     },
     "execution_count": 54,
     "metadata": {},
     "output_type": "execute_result"
    }
   ],
   "source": [
    "%%sql\n",
    "SELECT DISTINCT R.A\n",
    "FROM R, S, T\n",
    "WHERE R.A = S.A OR R.A = T.A;"
   ]
  },
  {
   "cell_type": "markdown",
   "metadata": {
    "collapsed": true
   },
   "source": [
    "Exercise #2\n",
    "-----------\n",
    "Given:\n",
    "\n",
    "> Product (<u>pname</u>,  price, category, manufacturer)<br>\n",
    "> Company (<u>cname</u>, stockPrice, country)\n",
    "\n",
    "Find all categories of products that are made by Chinese companies"
   ]
  },
  {
   "cell_type": "code",
   "execution_count": 57,
   "metadata": {},
   "outputs": [
    {
     "name": "stdout",
     "output_type": "stream",
     "text": [
      " * sqlite:///dataset_1.db\n",
      "Done.\n"
     ]
    },
    {
     "data": {
      "text/html": [
       "<table>\n",
       "    <tr>\n",
       "        <th>category</th>\n",
       "    </tr>\n",
       "    <tr>\n",
       "        <td>Toy</td>\n",
       "    </tr>\n",
       "    <tr>\n",
       "        <td>Electronic</td>\n",
       "    </tr>\n",
       "</table>"
      ],
      "text/plain": [
       "[('Toy',), ('Electronic',)]"
      ]
     },
     "execution_count": 57,
     "metadata": {},
     "output_type": "execute_result"
    }
   ],
   "source": [
    "%%sql\n",
    "select distinct p.category\n",
    "from product p, company c\n",
    "where p.manufacturer = c.cname and c.country = 'China'"
   ]
  },
  {
   "cell_type": "code",
   "execution_count": 60,
   "metadata": {},
   "outputs": [
    {
     "data": {
      "text/plain": [
       "\"\\noutput = {}\\n\\nfor r in R:\\n    for s in S:\\n        for t in T:\\n            if r['A'] == s['A'] or r['A'] == t['A']:\\n                output.add(r['A'])\\nreturn list(output)\\n\""
      ]
     },
     "execution_count": 60,
     "metadata": {},
     "output_type": "execute_result"
    }
   ],
   "source": [
    "'''\n",
    "SELECT DISTINCT R.A\n",
    "FROM R, S, T\n",
    "WHERE R.A = S.A OR R.A = T.A\n",
    "'''\n",
    "'''\n",
    "output = {}\n",
    "\n",
    "for r in R:\n",
    "    for s in S:\n",
    "        for t in T:\n",
    "            if r['A'] == s['A'] or r['A'] == t['A']:\n",
    "                output.add(r['A'])\n",
    "return list(output)\n",
    "'''\n"
   ]
  },
  {
   "cell_type": "markdown",
   "metadata": {
    "collapsed": true
   },
   "source": [
    "### Multiset Operations in SQL\n",
    "Explicit Set Operators:\n",
    "    \n",
    "    Select R.A\n",
    "    from R, S\n",
    "    Where R.A=S.A\n",
    "    INTERSECT\n",
    "    Select R.A\n",
    "    From R, T\n",
    "    Where R.A=T.A\n",
    "    \n",
    "By defualt SQL uses set semantics so no duplicates\n",
    "\n",
    "\n",
    "    Select R.A\n",
    "    from R, S\n",
    "    Where R.A=S.A\n",
    "    UNION\n",
    "    Select R.A\n",
    "    From R, T\n",
    "    Where R.A=T.A\n",
    "    \n",
    "If we want duplicates:\n",
    "\n",
    "    Select R.A\n",
    "    from R, S\n",
    "    Where R.A=S.A\n",
    "    UNION ALL\n",
    "    Select R.A\n",
    "    From R, T\n",
    "    Where R.A=T.A\n",
    "    \n",
    "    \n",
    "    \n",
    "    \n",
    "    \n",
    "    "
   ]
  },
  {
   "cell_type": "code",
   "execution_count": null,
   "metadata": {
    "collapsed": true
   },
   "outputs": [],
   "source": []
  },
  {
   "cell_type": "code",
   "execution_count": null,
   "metadata": {
    "collapsed": true
   },
   "outputs": [],
   "source": []
  },
  {
   "cell_type": "code",
   "execution_count": null,
   "metadata": {
    "collapsed": true
   },
   "outputs": [],
   "source": []
  },
  {
   "cell_type": "code",
   "execution_count": null,
   "metadata": {
    "collapsed": true
   },
   "outputs": [],
   "source": []
  },
  {
   "cell_type": "code",
   "execution_count": null,
   "metadata": {
    "collapsed": true
   },
   "outputs": [],
   "source": []
  },
  {
   "cell_type": "code",
   "execution_count": null,
   "metadata": {
    "collapsed": true
   },
   "outputs": [],
   "source": []
  },
  {
   "cell_type": "code",
   "execution_count": null,
   "metadata": {
    "collapsed": true
   },
   "outputs": [],
   "source": []
  },
  {
   "cell_type": "code",
   "execution_count": null,
   "metadata": {
    "collapsed": true
   },
   "outputs": [],
   "source": []
  },
  {
   "cell_type": "code",
   "execution_count": null,
   "metadata": {
    "collapsed": true
   },
   "outputs": [],
   "source": []
  },
  {
   "cell_type": "code",
   "execution_count": null,
   "metadata": {
    "collapsed": true
   },
   "outputs": [],
   "source": []
  },
  {
   "cell_type": "code",
   "execution_count": null,
   "metadata": {
    "collapsed": true
   },
   "outputs": [],
   "source": []
  },
  {
   "cell_type": "code",
   "execution_count": null,
   "metadata": {
    "collapsed": true
   },
   "outputs": [],
   "source": []
  },
  {
   "cell_type": "code",
   "execution_count": null,
   "metadata": {
    "collapsed": true
   },
   "outputs": [],
   "source": []
  },
  {
   "cell_type": "code",
   "execution_count": null,
   "metadata": {
    "collapsed": true
   },
   "outputs": [],
   "source": []
  },
  {
   "cell_type": "code",
   "execution_count": null,
   "metadata": {
    "collapsed": true
   },
   "outputs": [],
   "source": []
  },
  {
   "cell_type": "code",
   "execution_count": null,
   "metadata": {
    "collapsed": true
   },
   "outputs": [],
   "source": []
  },
  {
   "cell_type": "code",
   "execution_count": null,
   "metadata": {
    "collapsed": true
   },
   "outputs": [],
   "source": []
  },
  {
   "cell_type": "code",
   "execution_count": null,
   "metadata": {
    "collapsed": true
   },
   "outputs": [],
   "source": []
  },
  {
   "cell_type": "code",
   "execution_count": null,
   "metadata": {
    "collapsed": true
   },
   "outputs": [],
   "source": []
  },
  {
   "cell_type": "code",
   "execution_count": null,
   "metadata": {
    "collapsed": true
   },
   "outputs": [],
   "source": []
  },
  {
   "cell_type": "code",
   "execution_count": null,
   "metadata": {
    "collapsed": true
   },
   "outputs": [],
   "source": []
  },
  {
   "cell_type": "code",
   "execution_count": null,
   "metadata": {
    "collapsed": true
   },
   "outputs": [],
   "source": []
  },
  {
   "cell_type": "code",
   "execution_count": null,
   "metadata": {
    "collapsed": true
   },
   "outputs": [],
   "source": []
  },
  {
   "cell_type": "code",
   "execution_count": null,
   "metadata": {
    "collapsed": true
   },
   "outputs": [],
   "source": []
  },
  {
   "cell_type": "code",
   "execution_count": null,
   "metadata": {
    "collapsed": true
   },
   "outputs": [],
   "source": []
  },
  {
   "cell_type": "code",
   "execution_count": null,
   "metadata": {
    "collapsed": true
   },
   "outputs": [],
   "source": []
  },
  {
   "cell_type": "code",
   "execution_count": null,
   "metadata": {
    "collapsed": true
   },
   "outputs": [],
   "source": []
  },
  {
   "cell_type": "code",
   "execution_count": null,
   "metadata": {
    "collapsed": true
   },
   "outputs": [],
   "source": []
  },
  {
   "cell_type": "code",
   "execution_count": null,
   "metadata": {
    "collapsed": true
   },
   "outputs": [],
   "source": []
  },
  {
   "cell_type": "code",
   "execution_count": null,
   "metadata": {
    "collapsed": true
   },
   "outputs": [],
   "source": []
  },
  {
   "cell_type": "code",
   "execution_count": null,
   "metadata": {
    "collapsed": true
   },
   "outputs": [],
   "source": []
  },
  {
   "cell_type": "code",
   "execution_count": null,
   "metadata": {
    "collapsed": true
   },
   "outputs": [],
   "source": []
  },
  {
   "cell_type": "code",
   "execution_count": null,
   "metadata": {
    "collapsed": true
   },
   "outputs": [],
   "source": []
  },
  {
   "cell_type": "code",
   "execution_count": null,
   "metadata": {
    "collapsed": true
   },
   "outputs": [],
   "source": []
  },
  {
   "cell_type": "code",
   "execution_count": null,
   "metadata": {
    "collapsed": true
   },
   "outputs": [],
   "source": []
  },
  {
   "cell_type": "code",
   "execution_count": null,
   "metadata": {
    "collapsed": true
   },
   "outputs": [],
   "source": []
  },
  {
   "cell_type": "code",
   "execution_count": null,
   "metadata": {
    "collapsed": true
   },
   "outputs": [],
   "source": []
  },
  {
   "cell_type": "code",
   "execution_count": null,
   "metadata": {
    "collapsed": true
   },
   "outputs": [],
   "source": []
  }
 ],
 "metadata": {
  "kernelspec": {
   "display_name": "Python 3",
   "language": "python",
   "name": "python3"
  },
  "language_info": {
   "codemirror_mode": {
    "name": "ipython",
    "version": 3
   },
   "file_extension": ".py",
   "mimetype": "text/x-python",
   "name": "python",
   "nbconvert_exporter": "python",
   "pygments_lexer": "ipython3",
   "version": "3.6.3"
  }
 },
 "nbformat": 4,
 "nbformat_minor": 2
}
